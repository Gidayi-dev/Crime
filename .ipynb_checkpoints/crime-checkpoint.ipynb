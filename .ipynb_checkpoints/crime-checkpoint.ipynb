{
 "cells": [
  {
   "cell_type": "code",
   "execution_count": null,
   "id": "ba720d6b-e01c-4a88-b840-ef5f85227258",
   "metadata": {},
   "outputs": [],
   "source": [
    "# Re-run this cell\n",
    "# Import required libraries\n",
    "import pandas as pd\n",
    "import numpy as np\n",
    "import matplotlib.pyplot as plt\n",
    "import seaborn as sns\n",
    "\n",
    "# Load the dataset\n",
    "crimes = pd.read_csv(\"crimes.csv\", dtype={\"TIME OCC\": str})\n",
    "crimes.head()\n",
    "\n",
    "# Fix the variable name from 'crime' to 'crimes'\n",
    "crimes['HOUR OCC'] = crimes['TIME OCC'].astype(str).str.zfill(4).str[:2].astype(int)\n",
    "\n",
    "# Plot the crime frequency by hour\n",
    "plt.figure(figsize=(12,6))\n",
    "sns.countplot(data=crimes, x='HOUR OCC', color='coral')\n",
    "plt.title(\"Crime Frequency by Hour\")\n",
    "plt.xlabel(\"Hour of Day (24-hr format)\")\n",
    "plt.ylabel(\"Number of Crimes\")\n",
    "plt.show()\n",
    "\n",
    "# Find the peak crime hour\n",
    "peak_crime_hour = crimes['HOUR OCC'].value_counts().idxmax()\n",
    "print(\"Peak crime hour:\", peak_crime_hour)\n",
    "\n",
    "# Filter for night crimes\n",
    "night_hours = [22, 23, 0, 1, 2, 3]\n",
    "night_crimes = crimes[crimes['HOUR OCC'].isin(night_hours)]\n",
    "\n",
    "# Find the area with the most night crimes\n",
    "peak_night_crime_location = night_crimes['AREA NAME'].value_counts().idxmax()\n",
    "print(\"Area with most night crimes:\", peak_night_crime_location)\n",
    "\n",
    "# Define age bins and labels\n",
    "age_bins = [0, 17, 25, 34, 44, 54, 64, np.inf]\n",
    "age_labels = [\"0-17\", \"18-25\", \"26-34\", \"35-44\", \"45-54\", \"55-64\", \"65+\"]\n",
    "\n",
    "# Drop missing ages\n",
    "crimes = crimes[crimes['Vict Age'].notna()]\n",
    "\n",
    "# Bin the ages\n",
    "crimes['Age Bracket'] = pd.cut(crimes['Vict Age'], bins=age_bins, labels=age_labels)\n",
    "\n",
    "# Create the Series for victim ages\n",
    "victim_ages = crimes['Age Bracket'].value_counts().sort_index()\n",
    "print(victim_ages)\n",
    "\n",
    "# Summary of variables\n",
    "print(\"peak_crime_hour =\", peak_crime_hour)\n",
    "print(\"peak_night_crime_location =\", peak_night_crime_location)\n",
    "print(\"victim_ages =\")\n",
    "print(victim_ages)"
   ]
  }
 ],
 "metadata": {
  "kernelspec": {
   "display_name": "Python [conda env:base] *",
   "language": "python",
   "name": "conda-base-py"
  },
  "language_info": {
   "codemirror_mode": {
    "name": "ipython",
    "version": 3
   },
   "file_extension": ".py",
   "mimetype": "text/x-python",
   "name": "python",
   "nbconvert_exporter": "python",
   "pygments_lexer": "ipython3",
   "version": "3.12.7"
  }
 },
 "nbformat": 4,
 "nbformat_minor": 5
}
